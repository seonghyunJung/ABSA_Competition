{
 "cells": [
  {
   "cell_type": "code",
   "execution_count": null,
   "id": "36e9d311",
   "metadata": {},
   "outputs": [],
   "source": [
    "!pip install soynlp"
   ]
  },
  {
   "cell_type": "code",
   "execution_count": null,
   "id": "f2f4b5ad",
   "metadata": {},
   "outputs": [],
   "source": [
    "!git clone https://github.com/ssut/py-hanspell"
   ]
  },
  {
   "cell_type": "code",
   "execution_count": null,
   "id": "4bb0096a",
   "metadata": {},
   "outputs": [],
   "source": [
    "import os\n",
    "os.chdir(\"./py-hanspell\")\n",
    "!python setup.py install"
   ]
  },
  {
   "cell_type": "code",
   "execution_count": null,
   "id": "63503eaf",
   "metadata": {},
   "outputs": [],
   "source": [
    "os.chdir(\"../\")"
   ]
  },
  {
   "cell_type": "code",
   "execution_count": null,
   "id": "07b6456a",
   "metadata": {},
   "outputs": [],
   "source": [
    "import json\n",
    "import re\n",
    "from tqdm.notebook import tqdm\n",
    "from copy import deepcopy\n",
    "import pandas as pd\n",
    "from hanspell import spell_checker"
   ]
  },
  {
   "cell_type": "code",
   "execution_count": null,
   "id": "19714586",
   "metadata": {},
   "outputs": [],
   "source": [
    "def jsonload(fname, encoding=\"utf-8\"):\n",
    "    with open(fname, encoding=encoding) as f:\n",
    "        j = json.load(f)\n",
    "\n",
    "    return j\n",
    "\n",
    "\n",
    "# json 개체를 파일이름으로 깔끔하게 저장\n",
    "def jsondump(j, fname):\n",
    "    with open(fname, \"w\", encoding=\"UTF8\") as f:\n",
    "        json.dump(j, f, ensure_ascii=False)\n",
    "\n",
    "        \n",
    "# jsonl 파일 읽어서 list에 저장\n",
    "def jsonlload(fname, encoding=\"utf-8\"):\n",
    "    json_list = []\n",
    "    with open(fname, encoding=encoding) as f:\n",
    "        for line in f.readlines():\n",
    "            json_list.append(json.loads(line))\n",
    "    return json_list"
   ]
  },
  {
   "cell_type": "code",
   "execution_count": null,
   "id": "6702cca9",
   "metadata": {},
   "outputs": [],
   "source": [
    "train_file_path = \"./Original_data/nikluge-sa-2022-train.jsonl\"\n",
    "dev_file_path = \"./Original_data/nikluge-sa-2022-dev.jsonl\"\n",
    "\n",
    "train_data = jsonlload(train_file_path)\n",
    "dev_data = jsonlload(dev_file_path)"
   ]
  },
  {
   "cell_type": "code",
   "execution_count": null,
   "id": "26ba707f",
   "metadata": {},
   "outputs": [],
   "source": [
    "train_data.extend(dev_data)"
   ]
  },
  {
   "cell_type": "code",
   "execution_count": null,
   "id": "3ce187ea",
   "metadata": {},
   "outputs": [],
   "source": [
    "train_data"
   ]
  },
  {
   "cell_type": "code",
   "execution_count": null,
   "id": "45a80646",
   "metadata": {},
   "outputs": [],
   "source": [
    "entity_property_id_to_name = [\n",
    "    '제품 전체#일반', '제품 전체#가격', '제품 전체#디자인', '제품 전체#품질', '제품 전체#편의성', '제품 전체#인지도', '제품 전체#다양성',\n",
    "    '본품#일반', '본품#디자인', '본품#품질', '본품#편의성', '본품#다양성', '본품#가격', '본품#인지도',\n",
    "    '패키지/구성품#일반', '패키지/구성품#가격', '패키지/구성품#디자인', '패키지/구성품#품질', '패키지/구성품#편의성', '패키지/구성품#다양성',\n",
    "    '브랜드#일반', '브랜드#가격', '브랜드#디자인', '브랜드#품질', '브랜드#인지도',\n",
    "                    ]\n",
    "\n",
    "entity_property_count = {entity_property_id_to_name[i]: 0 for i in range(len(entity_property_id_to_name))}"
   ]
  },
  {
   "cell_type": "code",
   "execution_count": null,
   "id": "4237860f",
   "metadata": {},
   "outputs": [],
   "source": [
    "entity_property_count"
   ]
  },
  {
   "cell_type": "code",
   "execution_count": null,
   "id": "e66b213c",
   "metadata": {},
   "outputs": [],
   "source": [
    "for pair in train_data:\n",
    "    for detail in pair[\"annotation\"]:\n",
    "        for entity_property in entity_property_id_to_name:\n",
    "            if entity_property == detail[0]:\n",
    "                entity_property_count[entity_property] += 1"
   ]
  },
  {
   "cell_type": "code",
   "execution_count": null,
   "id": "dc773182",
   "metadata": {},
   "outputs": [],
   "source": [
    "entity_property_count"
   ]
  },
  {
   "cell_type": "code",
   "execution_count": null,
   "id": "9775fe2d",
   "metadata": {},
   "outputs": [],
   "source": [
    "double_index = []\n",
    "\n",
    "for i,pair in enumerate(train_data):\n",
    "    if len(pair[\"annotation\"]) > 1:\n",
    "        double_index.append(i)"
   ]
  },
  {
   "cell_type": "code",
   "execution_count": null,
   "id": "3abb1f81",
   "metadata": {},
   "outputs": [],
   "source": [
    "single_index = []\n",
    "\n",
    "for i,pair in enumerate(train_data):\n",
    "    if len(pair[\"annotation\"]) == 1:\n",
    "        single_index.append(i)"
   ]
  },
  {
   "cell_type": "code",
   "execution_count": null,
   "id": "ad33f4a6",
   "metadata": {},
   "outputs": [],
   "source": [
    "print(len(double_index))"
   ]
  },
  {
   "cell_type": "code",
   "execution_count": null,
   "id": "dd5b7d70",
   "metadata": {},
   "outputs": [],
   "source": [
    "print(len(single_index))"
   ]
  },
  {
   "cell_type": "code",
   "execution_count": null,
   "id": "976e34b3",
   "metadata": {},
   "outputs": [],
   "source": [
    "print(len(train_data))"
   ]
  },
  {
   "cell_type": "code",
   "execution_count": null,
   "id": "9c5220a4",
   "metadata": {},
   "outputs": [],
   "source": [
    "single_index_train_data = deepcopy(train_data)\n",
    "double_index.sort(reverse=True)\n",
    "for i in double_index:\n",
    "    del single_index_train_data[i]"
   ]
  },
  {
   "cell_type": "code",
   "execution_count": null,
   "id": "cc1fa60e",
   "metadata": {},
   "outputs": [],
   "source": [
    "double_index_train_data = deepcopy(train_data)\n",
    "single_index.sort(reverse=True)\n",
    "for i in single_index:\n",
    "    del double_index_train_data[i]"
   ]
  },
  {
   "cell_type": "code",
   "execution_count": null,
   "id": "a08b5590",
   "metadata": {},
   "outputs": [],
   "source": [
    "print(len(single_index_train_data))"
   ]
  },
  {
   "cell_type": "code",
   "execution_count": null,
   "id": "0ffff7c7",
   "metadata": {},
   "outputs": [],
   "source": [
    "print(len(double_index_train_data))"
   ]
  },
  {
   "cell_type": "code",
   "execution_count": null,
   "id": "0b4d8055",
   "metadata": {},
   "outputs": [],
   "source": [
    "print(len(train_data))"
   ]
  },
  {
   "cell_type": "code",
   "execution_count": null,
   "id": "8e0a4d52",
   "metadata": {},
   "outputs": [],
   "source": [
    "entity_property_id_to_name = [\n",
    "    '제품 전체#일반', '제품 전체#가격', '제품 전체#디자인', '제품 전체#품질', '제품 전체#편의성', '제품 전체#인지도', '제품 전체#다양성',\n",
    "    '본품#일반', '본품#디자인', '본품#품질', '본품#편의성', '본품#다양성', '본품#가격', '본품#인지도',\n",
    "    '패키지/구성품#일반', '패키지/구성품#가격', '패키지/구성품#디자인', '패키지/구성품#품질', '패키지/구성품#편의성', '패키지/구성품#다양성',\n",
    "    '브랜드#일반', '브랜드#가격', '브랜드#디자인', '브랜드#품질', '브랜드#인지도',\n",
    "                    ]\n",
    "\n",
    "entity_property_single_count = {entity_property_id_to_name[i]: 0 for i in range(len(entity_property_id_to_name))}\n",
    "entity_property_double_count = {entity_property_id_to_name[i]: 0 for i in range(len(entity_property_id_to_name))}"
   ]
  },
  {
   "cell_type": "code",
   "execution_count": null,
   "id": "6945251b",
   "metadata": {},
   "outputs": [],
   "source": [
    "for pair in single_index_train_data:\n",
    "    for detail in pair[\"annotation\"]:\n",
    "        for entity_property in entity_property_id_to_name:\n",
    "            if entity_property == detail[0]:\n",
    "                entity_property_single_count[entity_property] += 1\n",
    "entity_property_single_count"
   ]
  },
  {
   "cell_type": "code",
   "execution_count": null,
   "id": "63f4de1d",
   "metadata": {},
   "outputs": [],
   "source": [
    "for pair in double_index_train_data:\n",
    "    for detail in pair[\"annotation\"]:\n",
    "        for entity_property in entity_property_id_to_name:\n",
    "            if entity_property == detail[0]:\n",
    "                entity_property_double_count[entity_property] += 1\n",
    "entity_property_double_count"
   ]
  },
  {
   "cell_type": "code",
   "execution_count": null,
   "id": "0233eee3",
   "metadata": {},
   "outputs": [],
   "source": [
    "entity_property_count = {entity_property_id_to_name[i]: 0 for i in range(len(entity_property_id_to_name))}\n",
    "for pair in train_data:\n",
    "    for detail in pair[\"annotation\"]:\n",
    "        for entity_property in entity_property_id_to_name:\n",
    "            if entity_property == detail[0]:\n",
    "                entity_property_count[entity_property] += 1\n",
    "entity_property_count"
   ]
  },
  {
   "cell_type": "code",
   "execution_count": null,
   "id": "0e144d08",
   "metadata": {},
   "outputs": [],
   "source": [
    "df = pd.DataFrame(columns = [\"id\", \"sentence_form\", \"entity\", \"polarity\"])"
   ]
  },
  {
   "cell_type": "code",
   "execution_count": null,
   "id": "81c172e7",
   "metadata": {},
   "outputs": [],
   "source": [
    "for i,pair in enumerate(single_index_train_data):\n",
    "    df.at[i, \"id\"] = pair[\"id\"]\n",
    "    df.at[i, \"sentence_form\"] = pair[\"sentence_form\"]\n",
    "    df.at[i, \"entity\"] = pair[\"annotation\"][0][0]\n",
    "    df.at[i, \"polarity\"] = pair[\"annotation\"][0][2]"
   ]
  },
  {
   "cell_type": "code",
   "execution_count": null,
   "id": "627a534f",
   "metadata": {},
   "outputs": [],
   "source": [
    "df"
   ]
  },
  {
   "cell_type": "code",
   "execution_count": null,
   "id": "875fca48",
   "metadata": {},
   "outputs": [],
   "source": [
    "A = df[df['entity'] == '본품#인지도'].index\n",
    "B = df[df['entity'] == '패키지/구성품#가격'].index"
   ]
  },
  {
   "cell_type": "code",
   "execution_count": null,
   "id": "77069cf7",
   "metadata": {},
   "outputs": [],
   "source": [
    "temp1 = df.iloc[A]\n",
    "temp2 = df.iloc[B]"
   ]
  },
  {
   "cell_type": "code",
   "execution_count": null,
   "id": "082d3b15",
   "metadata": {},
   "outputs": [],
   "source": [
    "df.drop(A, inplace=True)\n",
    "df.drop(B, inplace=True)\n",
    "df.reset_index(drop=True, inplace=True)"
   ]
  },
  {
   "cell_type": "code",
   "execution_count": null,
   "id": "95d52ffb",
   "metadata": {},
   "outputs": [],
   "source": [
    "from sklearn.model_selection import train_test_split\n",
    "\n",
    "target = df[\"entity\"]\n",
    "df_train, df_val = train_test_split(df, test_size = 0.1, shuffle=True, stratify=target, random_state=34)"
   ]
  },
  {
   "cell_type": "code",
   "execution_count": null,
   "id": "a9befe6e",
   "metadata": {},
   "outputs": [],
   "source": [
    "df_train = pd.concat([df_train, temp1])\n",
    "df_train = pd.concat([df_train, temp2])\n",
    "df_train.reset_index(drop=True, inplace=True)\n",
    "df_val.reset_index(drop=True, inplace=True)"
   ]
  },
  {
   "cell_type": "code",
   "execution_count": null,
   "id": "5ab42c0c",
   "metadata": {},
   "outputs": [],
   "source": [
    "df_train"
   ]
  },
  {
   "cell_type": "code",
   "execution_count": null,
   "id": "d695afe6",
   "metadata": {},
   "outputs": [],
   "source": [
    "df_val"
   ]
  },
  {
   "cell_type": "code",
   "execution_count": null,
   "id": "8d5bbb03",
   "metadata": {},
   "outputs": [],
   "source": [
    "train = []\n",
    "dev = []\n",
    "\n",
    "for i in range(len(df_train)):\n",
    "    train.append({\"id\": df_train.at[i, 'id'], \"sentence_form\": df_train.at[i, 'sentence_form'], \"annotation\": [[df_train.at[i, 'entity'], [], df_train.at[i, 'polarity']]]})\n",
    "    \n",
    "for i in range(len(df_val)):\n",
    "    dev.append({\"id\": df_val.at[i, 'id'], \"sentence_form\": df_val.at[i, 'sentence_form'], \"annotation\": [[df_val.at[i, 'entity'], [], df_val.at[i, 'polarity']]]})"
   ]
  },
  {
   "cell_type": "code",
   "execution_count": null,
   "id": "b0e42365",
   "metadata": {},
   "outputs": [],
   "source": [
    "train.extend(double_index_train_data)"
   ]
  },
  {
   "cell_type": "code",
   "execution_count": null,
   "id": "23a432c7",
   "metadata": {},
   "outputs": [],
   "source": [
    "train"
   ]
  },
  {
   "cell_type": "code",
   "execution_count": null,
   "id": "1895270a",
   "metadata": {},
   "outputs": [],
   "source": [
    "dev"
   ]
  },
  {
   "cell_type": "code",
   "execution_count": null,
   "id": "49e266e1",
   "metadata": {},
   "outputs": [],
   "source": [
    "print(len(train))"
   ]
  },
  {
   "cell_type": "code",
   "execution_count": null,
   "id": "4a04e6f9",
   "metadata": {},
   "outputs": [],
   "source": [
    "print(len(dev))"
   ]
  },
  {
   "cell_type": "code",
   "execution_count": null,
   "id": "204a1204",
   "metadata": {},
   "outputs": [],
   "source": [
    "def jsonl_store(raw_data, fname, encoding=\"utf-8\"):\n",
    "    with open(f\"{fname}\", encoding=encoding, mode=\"w\") as f:\n",
    "        for raw in raw_data:\n",
    "            f.write(json.dumps(raw, ensure_ascii=False) + \"\\n\")"
   ]
  },
  {
   "cell_type": "markdown",
   "id": "bad27118",
   "metadata": {},
   "source": [
    "# Data Preprocess : Remove words and digits containing digits"
   ]
  },
  {
   "cell_type": "code",
   "execution_count": null,
   "id": "8df62b2f",
   "metadata": {},
   "outputs": [],
   "source": [
    "import re\n",
    "from soynlp.normalizer import *\n",
    "\n",
    "def clean_str(text):\n",
    "    text = re.sub(\"(&name&|&affiliation&|&social-security-num&|&tel-num&|&card-num&|&bank-account&|&num&|&online-account&)[^\\s]*\", \"\", text)\n",
    "    text = only_text(text)\n",
    "    text = emoticon_normalize(text, num_repeats=3)\n",
    "    text = repeat_normalize(text, num_repeats=2)\n",
    "    text = spell_checker.check(text).checked\n",
    "    text = only_hangle(text)\n",
    "    \n",
    "    \n",
    "    return text.strip()"
   ]
  },
  {
   "cell_type": "code",
   "execution_count": null,
   "id": "cb9c0df7",
   "metadata": {},
   "outputs": [],
   "source": [
    "print(len(train))\n",
    "print(len(dev))"
   ]
  },
  {
   "cell_type": "code",
   "execution_count": null,
   "id": "0d5b1b55",
   "metadata": {},
   "outputs": [],
   "source": [
    "for i in tqdm(range(len(train))):\n",
    "    sent = train_data[i][\"sentence_form\"]\n",
    "    train_data[i][\"sentence_form\"] = clean_str(sent)"
   ]
  },
  {
   "cell_type": "code",
   "execution_count": null,
   "id": "dbd41aac",
   "metadata": {},
   "outputs": [],
   "source": [
    "for i in tqdm(range(len(dev))):\n",
    "    sent = dev_data[i][\"sentence_form\"]\n",
    "    dev_data[i][\"sentence_form\"] = clean_str(sent)"
   ]
  },
  {
   "cell_type": "code",
   "execution_count": null,
   "id": "3cedb54d",
   "metadata": {},
   "outputs": [],
   "source": [
    "train_name = \"./Preprocessed_data/acc/train_acc_9_1_preprocessed.jsonl\"\n",
    "dev_name = \"./Preprocessed_data/acc/dev_acc_9_1_preprocessed.jsonl\""
   ]
  },
  {
   "cell_type": "code",
   "execution_count": null,
   "id": "8d9683de",
   "metadata": {},
   "outputs": [],
   "source": [
    "jsonl_store(train, train_name)\n",
    "jsonl_store(dev, dev_name)"
   ]
  },
  {
   "cell_type": "code",
   "execution_count": null,
   "id": "4ec8efd7",
   "metadata": {},
   "outputs": [],
   "source": []
  }
 ],
 "metadata": {
  "kernelspec": {
   "display_name": "Python 3 (ipykernel)",
   "language": "python",
   "name": "python3"
  },
  "language_info": {
   "codemirror_mode": {
    "name": "ipython",
    "version": 3
   },
   "file_extension": ".py",
   "mimetype": "text/x-python",
   "name": "python",
   "nbconvert_exporter": "python",
   "pygments_lexer": "ipython3",
   "version": "3.10.6"
  }
 },
 "nbformat": 4,
 "nbformat_minor": 5
}
