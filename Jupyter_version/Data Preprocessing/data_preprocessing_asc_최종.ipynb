{
 "cells": [
  {
   "cell_type": "code",
   "execution_count": null,
   "id": "32eac777",
   "metadata": {},
   "outputs": [],
   "source": [
    "import json\n",
    "import re\n",
    "from tqdm.notebook import tqdm\n",
    "from copy import deepcopy\n",
    "import pandas as pd"
   ]
  },
  {
   "cell_type": "code",
   "execution_count": null,
   "id": "0dd46a19",
   "metadata": {},
   "outputs": [],
   "source": [
    "def jsonload(fname, encoding=\"utf-8\"):\n",
    "    with open(fname, encoding=encoding) as f:\n",
    "        j = json.load(f)\n",
    "\n",
    "    return j\n",
    "\n",
    "\n",
    "# json 개체를 파일이름으로 깔끔하게 저장\n",
    "def jsondump(j, fname):\n",
    "    with open(fname, \"w\", encoding=\"UTF8\") as f:\n",
    "        json.dump(j, f, ensure_ascii=False)\n",
    "\n",
    "        \n",
    "# jsonl 파일 읽어서 list에 저장\n",
    "def jsonlload(fname, encoding=\"utf-8\"):\n",
    "    json_list = []\n",
    "    with open(fname, encoding=encoding) as f:\n",
    "        for line in f.readlines():\n",
    "            json_list.append(json.loads(line))\n",
    "    return json_list"
   ]
  },
  {
   "cell_type": "code",
   "execution_count": null,
   "id": "e575314c",
   "metadata": {},
   "outputs": [],
   "source": [
    "train_file_path = \"./Original_data/nikluge-sa-2022-train.jsonl\"\n",
    "dev_file_path = \"./Original_data/nikluge-sa-2022-dev.jsonl\"\n",
    "\n",
    "train_data = jsonlload(train_file_path)\n",
    "dev_data = jsonlload(dev_file_path)"
   ]
  },
  {
   "cell_type": "code",
   "execution_count": null,
   "id": "e342e5b1",
   "metadata": {},
   "outputs": [],
   "source": [
    "train_data.extend(dev_data)"
   ]
  },
  {
   "cell_type": "code",
   "execution_count": null,
   "id": "c5d9a417",
   "metadata": {},
   "outputs": [],
   "source": [
    "train_data"
   ]
  },
  {
   "cell_type": "code",
   "execution_count": null,
   "id": "346543a4",
   "metadata": {},
   "outputs": [],
   "source": [
    "print(len(train_data))"
   ]
  },
  {
   "cell_type": "code",
   "execution_count": null,
   "id": "dcc84ab6",
   "metadata": {},
   "outputs": [],
   "source": [
    "train_data"
   ]
  },
  {
   "cell_type": "code",
   "execution_count": null,
   "id": "0120ab5c",
   "metadata": {},
   "outputs": [],
   "source": [
    "polarity_id_to_name = ['positive', 'negative', 'neutral']\n",
    "polarity_count = {polarity_id_to_name[i]: 0 for i in range(len(polarity_id_to_name))}"
   ]
  },
  {
   "cell_type": "code",
   "execution_count": null,
   "id": "4868c9bf",
   "metadata": {},
   "outputs": [],
   "source": [
    "for pair in train_data:\n",
    "    for detail in pair[\"annotation\"]:\n",
    "        for polarity in polarity_id_to_name:\n",
    "            if polarity == detail[2]:\n",
    "                polarity_count[polarity] += 1"
   ]
  },
  {
   "cell_type": "code",
   "execution_count": null,
   "id": "e6ec2670",
   "metadata": {},
   "outputs": [],
   "source": [
    "polarity_count"
   ]
  },
  {
   "cell_type": "code",
   "execution_count": null,
   "id": "e07178de",
   "metadata": {},
   "outputs": [],
   "source": [
    "double_index = []\n",
    "\n",
    "for i,pair in enumerate(train_data):\n",
    "    if len(pair[\"annotation\"]) > 1:\n",
    "        double_index.append(i)"
   ]
  },
  {
   "cell_type": "code",
   "execution_count": null,
   "id": "6ce02601",
   "metadata": {},
   "outputs": [],
   "source": [
    "single_index = []\n",
    "\n",
    "for i,pair in enumerate(train_data):\n",
    "    if len(pair[\"annotation\"]) == 1:\n",
    "        single_index.append(i)"
   ]
  },
  {
   "cell_type": "code",
   "execution_count": null,
   "id": "44c27c74",
   "metadata": {},
   "outputs": [],
   "source": [
    "print(len(double_index))"
   ]
  },
  {
   "cell_type": "code",
   "execution_count": null,
   "id": "86d2149c",
   "metadata": {},
   "outputs": [],
   "source": [
    "print(len(single_index))"
   ]
  },
  {
   "cell_type": "code",
   "execution_count": null,
   "id": "a518b966",
   "metadata": {},
   "outputs": [],
   "source": [
    "print(len(train_data))"
   ]
  },
  {
   "cell_type": "code",
   "execution_count": null,
   "id": "ae0dcb45",
   "metadata": {},
   "outputs": [],
   "source": [
    "single_index_train_data = deepcopy(train_data)\n",
    "double_index.sort(reverse=True)\n",
    "for i in double_index:\n",
    "    del single_index_train_data[i]"
   ]
  },
  {
   "cell_type": "code",
   "execution_count": null,
   "id": "b639328a",
   "metadata": {},
   "outputs": [],
   "source": [
    "double_index_train_data = deepcopy(train_data)\n",
    "single_index.sort(reverse=True)\n",
    "for i in single_index:\n",
    "    del double_index_train_data[i]"
   ]
  },
  {
   "cell_type": "code",
   "execution_count": null,
   "id": "45f4607e",
   "metadata": {},
   "outputs": [],
   "source": [
    "print(len(single_index_train_data))"
   ]
  },
  {
   "cell_type": "code",
   "execution_count": null,
   "id": "cf50743e",
   "metadata": {},
   "outputs": [],
   "source": [
    "single_index_train_data"
   ]
  },
  {
   "cell_type": "code",
   "execution_count": null,
   "id": "b9bf8a04",
   "metadata": {},
   "outputs": [],
   "source": [
    "print(len(single_index_train_data))"
   ]
  },
  {
   "cell_type": "code",
   "execution_count": null,
   "id": "9fa09481",
   "metadata": {},
   "outputs": [],
   "source": [
    "single_index_train_data[0][\"annotation\"][0][2]"
   ]
  },
  {
   "cell_type": "code",
   "execution_count": null,
   "id": "fd82b8ef",
   "metadata": {},
   "outputs": [],
   "source": [
    "#!/usr/bin/env python3\n",
    "#-*- codig: utf-8 -*-\n",
    "import sys\n",
    "import requests\n",
    "import json\n",
    "client_id = \"a7s6l6bzgo\"\n",
    "client_secret = \"6vQUTEXthtxXXm7PCVQji2p1dnMOlS2ycntQB3hy\"\n",
    "url=\"https://naveropenapi.apigw.ntruss.com/sentiment-analysis/v1/analyze\"\n",
    "headers = {\n",
    "    \"X-NCP-APIGW-API-KEY-ID\": client_id,\n",
    "    \"X-NCP-APIGW-API-KEY\": client_secret,\n",
    "    \"Content-Type\": \"application/json\"\n",
    "}\n",
    "\n",
    "for pair in tqdm(single_index_train_data):\n",
    "    if pair[\"annotation\"][0][2] == \"negative\" or pair[\"annotation\"][0][2] == \"neutral\":\n",
    "        content = pair[\"sentence_form\"]\n",
    "        data = {\n",
    "          \"content\": content\n",
    "        }\n",
    "        response = requests.post(url, data=json.dumps(data), headers=headers)\n",
    "        rescode = response.status_code\n",
    "        if(rescode == 200):\n",
    "            text = eval(response.text)\n",
    "            sentiment = text[\"document\"][\"sentiment\"]\n",
    "            pair[\"annotation\"][0][2] = sentiment\n",
    "        else:\n",
    "            print(\"Error : \" + response.text)"
   ]
  },
  {
   "cell_type": "code",
   "execution_count": null,
   "id": "08728ea0",
   "metadata": {},
   "outputs": [],
   "source": [
    "print(len(train_data))"
   ]
  },
  {
   "cell_type": "code",
   "execution_count": null,
   "id": "63a486c5",
   "metadata": {},
   "outputs": [],
   "source": [
    "polarity_id_to_name = ['positive', 'negative', 'neutral']\n",
    "\n",
    "polarity_single_count = {polarity_id_to_name[i]: 0 for i in range(len(polarity_id_to_name))}\n",
    "polarity_double_count = {polarity_id_to_name[i]: 0 for i in range(len(polarity_id_to_name))}"
   ]
  },
  {
   "cell_type": "code",
   "execution_count": null,
   "id": "e064b57d",
   "metadata": {},
   "outputs": [],
   "source": [
    "for pair in single_index_train_data:\n",
    "    for detail in pair[\"annotation\"]:\n",
    "        for polarity in polarity_id_to_name:\n",
    "            if polarity == detail[2]:\n",
    "                polarity_single_count[polarity] += 1\n",
    "polarity_single_count"
   ]
  },
  {
   "cell_type": "code",
   "execution_count": null,
   "id": "63fc869c",
   "metadata": {},
   "outputs": [],
   "source": [
    "for pair in double_index_train_data:\n",
    "    for detail in pair[\"annotation\"]:\n",
    "        for polarity in polarity_id_to_name:\n",
    "            if polarity == detail[2]:\n",
    "                polarity_double_count[polarity] += 1\n",
    "polarity_double_count"
   ]
  },
  {
   "cell_type": "code",
   "execution_count": null,
   "id": "71173d10",
   "metadata": {},
   "outputs": [],
   "source": [
    "polarity_count = {polarity_id_to_name[i]: 0 for i in range(len(polarity_id_to_name))}\n",
    "for pair in train_data:\n",
    "    for detail in pair[\"annotation\"]:\n",
    "        for polarity in polarity_id_to_name:\n",
    "            if polarity == detail[2]:\n",
    "                polarity_count[polarity] += 1\n",
    "polarity_count"
   ]
  },
  {
   "cell_type": "code",
   "execution_count": null,
   "id": "8f0f3588",
   "metadata": {},
   "outputs": [],
   "source": [
    "df = pd.DataFrame(columns = [\"id\", \"sentence_form\", \"entity\", \"polarity\"])"
   ]
  },
  {
   "cell_type": "code",
   "execution_count": null,
   "id": "f294ce6c",
   "metadata": {},
   "outputs": [],
   "source": [
    "df"
   ]
  },
  {
   "cell_type": "code",
   "execution_count": null,
   "id": "9515a0fa",
   "metadata": {},
   "outputs": [],
   "source": [
    "for i,pair in enumerate(single_index_train_data):\n",
    "    df.at[i, \"id\"] = pair[\"id\"]\n",
    "    df.at[i, \"sentence_form\"] = pair[\"sentence_form\"]\n",
    "    df.at[i, \"entity\"] = pair[\"annotation\"][0][0]\n",
    "    df.at[i, \"polarity\"] = pair[\"annotation\"][0][2]"
   ]
  },
  {
   "cell_type": "code",
   "execution_count": null,
   "id": "d491b1fb",
   "metadata": {},
   "outputs": [],
   "source": [
    "df"
   ]
  },
  {
   "cell_type": "code",
   "execution_count": null,
   "id": "5e381bda",
   "metadata": {},
   "outputs": [],
   "source": [
    "from sklearn.model_selection import train_test_split\n",
    "\n",
    "target = df[\"polarity\"]\n",
    "df_train, df_val = train_test_split(df, test_size = 0.1, shuffle=True, stratify=target, random_state=34)"
   ]
  },
  {
   "cell_type": "code",
   "execution_count": null,
   "id": "e943681f",
   "metadata": {},
   "outputs": [],
   "source": [
    "df_train.reset_index(drop=True, inplace=True)\n",
    "df_val.reset_index(drop=True, inplace=True)"
   ]
  },
  {
   "cell_type": "code",
   "execution_count": null,
   "id": "9c7b55db",
   "metadata": {},
   "outputs": [],
   "source": [
    "train = []\n",
    "dev = []\n",
    "\n",
    "for i in range(len(df_train)):\n",
    "    train.append({\"id\": df_train.at[i, 'id'], \"sentence_form\": df_train.at[i, 'sentence_form'], \"annotation\": [[df_train.at[i, 'entity'], [], df_train.at[i, 'polarity']]]})\n",
    "    \n",
    "for i in range(len(df_val)):\n",
    "    dev.append({\"id\": df_val.at[i, 'id'], \"sentence_form\": df_val.at[i, 'sentence_form'], \"annotation\": [[df_val.at[i, 'entity'], [], df_val.at[i, 'polarity']]]})"
   ]
  },
  {
   "cell_type": "code",
   "execution_count": null,
   "id": "1b8ed20b",
   "metadata": {},
   "outputs": [],
   "source": [
    "def jsonl_store(raw_data, fname, encoding=\"utf-8\"):\n",
    "    with open(f\"{fname}\", encoding=encoding, mode=\"w\") as f:\n",
    "        for raw in raw_data:\n",
    "            f.write(json.dumps(raw, ensure_ascii=False) + \"\\n\")"
   ]
  },
  {
   "cell_type": "code",
   "execution_count": null,
   "id": "e72395f1",
   "metadata": {},
   "outputs": [],
   "source": [
    "train_name = \"./Preprocessed_data/asc/train_asc_9_1_emoji_not_removed_clova.jsonl\"\n",
    "dev_name = \"./Preprocessed_data/asc/dev_asc_9_1_emoji_not_removed_clova.jsonl\""
   ]
  },
  {
   "cell_type": "code",
   "execution_count": null,
   "id": "7bf4f7e5",
   "metadata": {},
   "outputs": [],
   "source": [
    "jsonl_store(train, train_name)\n",
    "jsonl_store(dev, dev_name)"
   ]
  },
  {
   "cell_type": "code",
   "execution_count": null,
   "id": "a245b936",
   "metadata": {},
   "outputs": [],
   "source": []
  }
 ],
 "metadata": {
  "kernelspec": {
   "display_name": "Python 3 (ipykernel)",
   "language": "python",
   "name": "python3"
  },
  "language_info": {
   "codemirror_mode": {
    "name": "ipython",
    "version": 3
   },
   "file_extension": ".py",
   "mimetype": "text/x-python",
   "name": "python",
   "nbconvert_exporter": "python",
   "pygments_lexer": "ipython3",
   "version": "3.10.6"
  }
 },
 "nbformat": 4,
 "nbformat_minor": 5
}
